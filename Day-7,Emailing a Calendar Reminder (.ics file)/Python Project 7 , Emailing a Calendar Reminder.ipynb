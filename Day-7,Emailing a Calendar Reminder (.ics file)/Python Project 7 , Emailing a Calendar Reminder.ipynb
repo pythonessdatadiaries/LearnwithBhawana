{
 "cells": [
  {
   "cell_type": "markdown",
   "id": "0465611c",
   "metadata": {},
   "source": [
    "## Python Project 7: Emailing a Calendar Reminder (.ics file)"
   ]
  },
  {
   "cell_type": "markdown",
   "id": "905ba701",
   "metadata": {},
   "source": [
    "Steps to Get Gmail App Password (if using 2-Step Verification)\n",
    "\n",
    "You MUST use an App Password if Gmail is secured with 2FA.\n",
    "\n",
    "\t1.\tGo to this link:https://myaccount.google.com/apppasswords\n",
    "\t2.\tLog in to your Google account (if not already logged in).\n",
    "\t3.\tIf prompted, enable 2-Step Verification:\n",
    "\t•\tGo to: https://myaccount.google.com/security\n",
    "\t•\tTurn on 2-Step Verification\n",
    "\t•\tAdd your phone number for OTP verification\n",
    "\t4.\tAfter 2-Step Verification is enabled, return to App Passwords page:\n",
    "\t•\tSelect App → Choose \"Mail\"\n",
    "\t•\tSelect Device → Choose \"Other\" and type \"PythonICS/Calendar ReminderICS\"\n",
    "\t•\tClick Generate\n",
    "\t5.\tCopy the 16-character password Google gives you:\n",
    "    \n",
    "**Example : eiwthjpzefgwijnk**"
   ]
  },
  {
   "cell_type": "markdown",
   "id": "59525820",
   "metadata": {},
   "source": [
    "Libraries used : \n",
    "\n",
    "\t•\tsmtplib — allows sending emails via the Simple Mail Transfer Protocol (SMTP).\n",
    "    \n",
    "\t•\tEmailMessage — helps create and format email content (subject, body, attachments).\n",
    "    \n",
    "\t•\tics — used to create and handle .ics calendar files.\n",
    "    \n",
    "\t•\tdatetime — useful for date/time-related operations (imported but not used here directly)."
   ]
  },
  {
   "cell_type": "code",
   "execution_count": 8,
   "id": "5f8588cb",
   "metadata": {},
   "outputs": [
    {
     "name": "stdout",
     "output_type": "stream",
     "text": [
      "Requirement already satisfied: ics in /opt/homebrew/anaconda3/lib/python3.10/site-packages (0.7.2)\r\n",
      "Requirement already satisfied: python-dateutil in /opt/homebrew/anaconda3/lib/python3.10/site-packages (from ics) (2.8.2)\r\n",
      "Requirement already satisfied: arrow>=0.11 in /opt/homebrew/anaconda3/lib/python3.10/site-packages (from ics) (1.2.3)\r\n",
      "Requirement already satisfied: six>1.5 in /opt/homebrew/anaconda3/lib/python3.10/site-packages (from ics) (1.16.0)\r\n",
      "Requirement already satisfied: tatsu>4.2 in /opt/homebrew/anaconda3/lib/python3.10/site-packages (from ics) (5.13.1)\r\n",
      "Requirement already satisfied: attrs>=19.1.0 in /opt/homebrew/anaconda3/lib/python3.10/site-packages (from ics) (22.1.0)\r\n"
     ]
    }
   ],
   "source": [
    "import sys\n",
    "\n",
    "!{sys.executable} -m pip install ics"
   ]
  },
  {
   "cell_type": "code",
   "execution_count": 9,
   "id": "182339c9",
   "metadata": {},
   "outputs": [
    {
     "name": "stdout",
     "output_type": "stream",
     "text": [
      "Email Sent!!✅\n"
     ]
    }
   ],
   "source": [
    "import smtplib\n",
    "from email.message import EmailMessage\n",
    "from ics import Calendar, Event\n",
    "from datetime import datetime\n",
    "\n",
    "# Step 1: Create calendar event\n",
    "cal = Calendar()\n",
    "event = Event()\n",
    "event.name = \"Doctor Appointment\"\n",
    "event.begin = \"2025-07-24 19:00:00\"\n",
    "event.duration = {\"minutes\": 30}\n",
    "event.description = \"Dermatologist appointment at clinic\"\n",
    "event.location = \"Derma Skin Clinic\"\n",
    "cal.events.add(event)\n",
    "\n",
    "# Step 2: Save to .ics file\n",
    "with open(\"reminder.ics\", \"w\") as my_file:\n",
    "    my_file.writelines(cal)\n",
    "\n",
    "# Step 3: Email it\n",
    "msg = EmailMessage()\n",
    "msg[\"Subject\"] = \"Calendar Reminder 📅\"\n",
    "msg[\"From\"] = \"your_email@gmail.com\"\n",
    "msg[\"To\"] = \"destination_email@gmail.com\"\n",
    "msg.set_content(\"Hey, Add this reminder in your Calendar!\")\n",
    "\n",
    "with open(\"reminder.ics\", \"rb\") as f:\n",
    "    file_data = f.read()\n",
    "    msg.add_attachment(file_data, maintype=\"text\", subtype=\"calendar\", filename=\"reminder.ics\")\n",
    "\n",
    "# Step 4: Send using App Password\n",
    "with smtplib.SMTP_SSL(\"smtp.gmail.com\", 465) as smtp:\n",
    "    smtp.login(\"your_email@gmail.com\", \"app password\")\n",
    "    smtp.send_message(msg)\n",
    "\n",
    "print(\"Email Sent!!✅\")\n"
   ]
  },
  {
   "cell_type": "markdown",
   "id": "6056b64e",
   "metadata": {},
   "source": [
    "### Code Explanation : \n",
    "\n",
    "🔹 Step 1: Create a Calendar Event\n"
   ]
  },
  {
   "cell_type": "code",
   "execution_count": null,
   "id": "d062a75c",
   "metadata": {},
   "outputs": [],
   "source": [
    "\"\"\"\n",
    "cal = Calendar()\n",
    "event = Event()\n",
    "event.name = \"Doctor Appointment\"\n",
    "event.begin = \"2025-07-24 19:00:00\"\n",
    "event.duration = {\"minutes\": 30}\n",
    "event.description = \"Dermatologist appointment at clinic\"\n",
    "event.location = \"Derma Skin Clinic\"\n",
    "cal.events.add(event)\n",
    "\n",
    "\"\"\""
   ]
  },
  {
   "cell_type": "markdown",
   "id": "93ef62f3",
   "metadata": {},
   "source": [
    "\t•\tCreates a new calendar (Calendar()).\n",
    "\t•\tAdds one event with:\n",
    "\t•\tTitle (event.name)\n",
    "\t•\tStart time (event.begin)\n",
    "\t•\tDuration (30 mins)\n",
    "\t•\tDescription\n",
    "\t•\tLocation\n",
    "\t•\tAdds the event to the calendar.\n",
    "\n",
    "⸻⸻⸻⸻⸻⸻⸻⸻⸻⸻⸻⸻⸻⸻⸻⸻⸻⸻⸻⸻⸻⸻⸻⸻⸻⸻\n",
    "\n",
    "🔹 Step 2: Save the Calendar to a .ics File"
   ]
  },
  {
   "cell_type": "code",
   "execution_count": null,
   "id": "28bb1813",
   "metadata": {},
   "outputs": [],
   "source": [
    "\"\"\"\n",
    "with open(\"reminder.ics\", \"w\") as my_file:\n",
    "    my_file.writelines(cal)\n",
    "\"\"\""
   ]
  },
  {
   "cell_type": "markdown",
   "id": "f86fb7ad",
   "metadata": {},
   "source": [
    "\t•\tSaves the .ics calendar file as \"reminder.ics\" locally.\n",
    "\t•\tThis is the file we will send via email.\n",
    "    \n",
    "⸻⸻⸻⸻⸻⸻⸻⸻⸻⸻⸻⸻⸻⸻⸻⸻⸻⸻⸻⸻⸻⸻⸻⸻⸻⸻\n",
    "\n",
    "🔹 Step 3: Compose the Email with Attachment"
   ]
  },
  {
   "cell_type": "code",
   "execution_count": null,
   "id": "da95fa73",
   "metadata": {},
   "outputs": [],
   "source": [
    "\"\"\"\n",
    "msg = EmailMessage()\n",
    "msg[\"Subject\"] = \"Calendar Reminder 📅\"\n",
    "msg[\"From\"] = \"your_email@gmail.com\"\n",
    "msg[\"To\"] = \"destination_email@gmail.com\"\n",
    "msg.set_content(\"Hey, Add this reminder in your Calendar!\")\n",
    "\n",
    "with open(\"reminder.ics\", \"rb\") as f:\n",
    "    file_data = f.read()\n",
    "    msg.add_attachment(file_data, maintype=\"text\", subtype=\"calendar\", filename=\"reminder.ics\")\n",
    "\"\"\""
   ]
  },
  {
   "cell_type": "markdown",
   "id": "d88f2b35",
   "metadata": {},
   "source": [
    "\t•\tSets up an email message with subject, sender, recipient, and content.\n",
    "\t•\tAttaches the .ics calendar file as an attachment.\n",
    "\t•\tType: text/calendar (so apps can recognize it as a calendar invite).\n",
    "\n",
    "⸻⸻⸻⸻⸻⸻⸻⸻⸻⸻⸻⸻⸻⸻⸻⸻⸻⸻⸻⸻⸻⸻⸻⸻⸻⸻\n",
    "\n",
    "🔹 Step 4: Send Email Using Gmail SMTP + App Password"
   ]
  },
  {
   "cell_type": "code",
   "execution_count": null,
   "id": "4e85cefb",
   "metadata": {},
   "outputs": [],
   "source": [
    "\"\"\"\n",
    "with smtplib.SMTP_SSL(\"smtp.gmail.com\", 465) as smtp:\n",
    "    smtp.login(\"your_email@gmail.com\", \"eiwt hjpz efgw ijnk\")  # App password goes here\n",
    "    smtp.send_message(msg)\n",
    "    \n",
    "\"\"\""
   ]
  },
  {
   "cell_type": "markdown",
   "id": "c7171fa2",
   "metadata": {},
   "source": [
    "\t•\tUses Gmail’s SMTP_SSL server (smtp.gmail.com) on port 465.\n",
    "\t•\tLogs in with your Gmail and App Password (not your regular password).\n",
    "\t•\tSends the email message with the .ics file attached.\n",
    "\n",
    "App Password is required if your Gmail has 2-Step Verification (most accounts now do).\n",
    "\n",
    "⸻⸻⸻⸻⸻⸻⸻⸻⸻⸻⸻⸻⸻⸻⸻⸻⸻⸻⸻⸻⸻⸻⸻⸻⸻⸻\n",
    "\n",
    "🟢 Final Output:\n",
    "\n",
    "\t•\tConfirms that the email was sent.\n",
    "    \n",
    "    \n",
    "    \n",
    "#### \t•\tThis code works on both desktop and mobile (e.g., Pydroid3) if .ics and SMTP work properly.\n",
    "####    •\tYou can open the .ics attachment in Gmail, and your Calendar app will allow you to import it with a single tap."
   ]
  },
  {
   "attachments": {},
   "cell_type": "markdown",
   "id": "e83474c9",
   "metadata": {},
   "source": [
    "\n",
    "### What do we learn from this project?\n",
    "\t1.Creating Calendar Events using Python:\n",
    "    You learn how to use the ics library to create .ics files, which are compatible with all major calendar applications (Google Calendar, Outlook, etc.).\n",
    "    \n",
    "\t2.Working with Dates and Time:\n",
    "    You use Python’s datetime module to set date, time, and duration for events.\n",
    "    \n",
    "\t3.File Handling:\n",
    "    You learn to save calendar data to a file (reminder.ics) in the proper format.\n",
    "    \n",
    "\t4.Sending Emails with Attachments:\n",
    "    You use smtplib and email.message to send emails from Python, including how to attach files properly.\n",
    "    \n",
    "\t5.App Password for Gmail:\n",
    "    You understand the need for App Passwords when using Gmail SMTP securely with two-factor authentication.\n",
    "    \n",
    "\t6.Real-world Automation\n",
    "\n",
    "**The project mimics real-life use-cases where Python automates calendar invites—like sending appointment reminders or meeting invites.**"
   ]
  },
  {
   "cell_type": "code",
   "execution_count": null,
   "id": "fa9a6d9f",
   "metadata": {},
   "outputs": [],
   "source": []
  }
 ],
 "metadata": {
  "kernelspec": {
   "display_name": "Python 3 (ipykernel)",
   "language": "python",
   "name": "python3"
  },
  "language_info": {
   "codemirror_mode": {
    "name": "ipython",
    "version": 3
   },
   "file_extension": ".py",
   "mimetype": "text/x-python",
   "name": "python",
   "nbconvert_exporter": "python",
   "pygments_lexer": "ipython3",
   "version": "3.10.9"
  }
 },
 "nbformat": 4,
 "nbformat_minor": 5
}
