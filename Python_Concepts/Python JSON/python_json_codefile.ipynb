{
 "cells": [
  {
   "cell_type": "code",
   "execution_count": 6,
   "id": "9f1e528c",
   "metadata": {},
   "outputs": [
    {
     "name": "stdout",
     "output_type": "stream",
     "text": [
      "JSON Output:\n",
      " {\n",
      "    \"name\": \"Bhawana\",\n",
      "    \"role\": \"Python Developer\",\n",
      "    \"skills\": [\n",
      "        \"AI\",\n",
      "        \"Automation\",\n",
      "        \"APIs\"\n",
      "    ]\n",
      "}\n",
      "\n",
      "Loaded from file: {\n",
      "    \"name\": \"Bhawana\",\n",
      "    \"role\": \"Python Developer\",\n",
      "    \"skills\": [\n",
      "        \"AI\",\n",
      "        \"Automation\",\n",
      "        \"APIs\"\n",
      "    ]\n",
      "}\n"
     ]
    }
   ],
   "source": [
    "# Step 1: Import the json module. \n",
    "# This module helps us convert Python data into JSON format and vice versa.\n",
    "import json\n",
    "\n",
    "# Step 2: Create a Python dictionary named 'user'.\n",
    "# A dictionary stores data in key-value pairs.\n",
    "user = {\n",
    "    \"name\": \"Bhawana\",              # Key: \"name\", Value: \"Bhawana\" (a string)\n",
    "    \"role\": \"Python Developer\",     # Key: \"role\", Value: \"Python Developer\"\n",
    "    \"skills\": [\"AI\", \"Automation\", \"APIs\"]  # Key: \"skills\", Value: List of strings\n",
    "}\n",
    "\n",
    "# Step 3: Convert the Python dictionary into a JSON string using json.dumps()\n",
    "json_data = json.dumps(user,indent = 4)\n",
    "\n",
    "# Step 4: Print the converted JSON string\n",
    "print(\"JSON Output:\\n\", json_data)\n",
    "\n",
    "# Step 5: Open a file named 'user.json' in write mode (\"w\") to save the JSON string.\n",
    "# The 'with' block automatically closes the file after writing.\n",
    "with open(\"user.json\", \"w\") as file:\n",
    "    json.dump(json_data, file)  # Save the JSON string into the file\n",
    "\n",
    "# Step 6: Open the same 'user.json' file in read mode (\"r\") to load the data back.\n",
    "with open(\"user.json\", \"r\") as file:\n",
    "    data = json.load(file)  # Read the file content and load it as Python data\n",
    "    print(\"\\nLoaded from file:\", data)  # Print the data read from file"
   ]
  },
  {
   "cell_type": "code",
   "execution_count": 8,
   "id": "bfaf6a94",
   "metadata": {
    "scrolled": false
   },
   "outputs": [
    {
     "name": "stdout",
     "output_type": "stream",
     "text": [
      "GitHub User Info (JSON):\n",
      "Name: Bhawana Saxena\n",
      "Public Repos: 3\n",
      "Followers: 2\n"
     ]
    }
   ],
   "source": [
    "import requests  # Used to call APIs\n",
    "\n",
    "# Step 1: API endpoint of a GitHub user profile (public data)\n",
    "url = \"https://api.github.com/users/pythonessdatadiaries\"  # Replace with any GitHub username\n",
    "\n",
    "# Step 2: Send GET request to fetch data\n",
    "response = requests.get(url)\n",
    "\n",
    "# Step 3: Convert response to JSON (dictionary format)\n",
    "data = response.json()\n",
    "\n",
    "# Step 4: Print some useful information\n",
    "print(\"GitHub User Info (JSON):\")\n",
    "print(\"Name:\", data[\"name\"])\n",
    "print(\"Public Repos:\", data[\"public_repos\"])\n",
    "print(\"Followers:\", data[\"followers\"])"
   ]
  },
  {
   "cell_type": "code",
   "execution_count": 18,
   "id": "a38c4ebf",
   "metadata": {},
   "outputs": [
    {
     "name": "stdout",
     "output_type": "stream",
     "text": [
      "Requirement already satisfied: textblob in /opt/homebrew/anaconda3/lib/python3.10/site-packages (0.19.0)\n",
      "Requirement already satisfied: nltk>=3.9 in /opt/homebrew/anaconda3/lib/python3.10/site-packages (from textblob) (3.9.2)\n",
      "Requirement already satisfied: click in /opt/homebrew/anaconda3/lib/python3.10/site-packages (from nltk>=3.9->textblob) (8.0.4)\n",
      "Requirement already satisfied: joblib in /opt/homebrew/anaconda3/lib/python3.10/site-packages (from nltk>=3.9->textblob) (1.1.1)\n",
      "Requirement already satisfied: regex>=2021.8.3 in /opt/homebrew/anaconda3/lib/python3.10/site-packages (from nltk>=3.9->textblob) (2022.7.9)\n",
      "Requirement already satisfied: tqdm in /opt/homebrew/anaconda3/lib/python3.10/site-packages (from nltk>=3.9->textblob) (4.64.1)\n",
      "\n",
      "\u001b[1m[\u001b[0m\u001b[34;49mnotice\u001b[0m\u001b[1;39;49m]\u001b[0m\u001b[39;49m A new release of pip is available: \u001b[0m\u001b[31;49m25.1.1\u001b[0m\u001b[39;49m -> \u001b[0m\u001b[32;49m25.2\u001b[0m\n",
      "\u001b[1m[\u001b[0m\u001b[34;49mnotice\u001b[0m\u001b[1;39;49m]\u001b[0m\u001b[39;49m To update, run: \u001b[0m\u001b[32;49m/opt/homebrew/anaconda3/bin/python -m pip install --upgrade pip\u001b[0m\n"
     ]
    }
   ],
   "source": [
    "import sys\n",
    "\n",
    "!{sys.executable} -m pip install textblob"
   ]
  },
  {
   "cell_type": "code",
   "execution_count": 19,
   "id": "ce6f7159",
   "metadata": {},
   "outputs": [
    {
     "name": "stdout",
     "output_type": "stream",
     "text": [
      "AI Model Response (JSON):\n",
      "{\n",
      "  \"input\": \"I absolutely loved the movie! The acting was brilliant.\",\n",
      "  \"sentiment\": \"Positive\",\n",
      "  \"polarity_score\": 0.5916666666666667\n",
      "}\n"
     ]
    }
   ],
   "source": [
    "from textblob import TextBlob\n",
    "import json\n",
    "\n",
    "# Step 1: User review input\n",
    "user_review = \"I absolutely loved the movie! The acting was brilliant.\"\n",
    "\n",
    "# Step 2: Analyze sentiment locally (No API needed)\n",
    "analysis = TextBlob(user_review)\n",
    "polarity = analysis.sentiment.polarity  # Range: -1 (negative) to 1 (positive)\n",
    "\n",
    "# Step 3: Convert to JSON format\n",
    "response_json = {\n",
    "    \"input\": user_review,\n",
    "    \"sentiment\": \"Positive\" if polarity > 0 else \"Negative\",\n",
    "    \"polarity_score\": polarity\n",
    "}\n",
    "\n",
    "# Step 4: Print JSON-style response\n",
    "print(\"AI Model Response (JSON):\")\n",
    "print(json.dumps(response_json, indent=2))"
   ]
  },
  {
   "cell_type": "code",
   "execution_count": null,
   "id": "a120240b",
   "metadata": {},
   "outputs": [],
   "source": []
  }
 ],
 "metadata": {
  "kernelspec": {
   "display_name": "Python 3 (ipykernel)",
   "language": "python",
   "name": "python3"
  },
  "language_info": {
   "codemirror_mode": {
    "name": "ipython",
    "version": 3
   },
   "file_extension": ".py",
   "mimetype": "text/x-python",
   "name": "python",
   "nbconvert_exporter": "python",
   "pygments_lexer": "ipython3",
   "version": "3.10.9"
  }
 },
 "nbformat": 4,
 "nbformat_minor": 5
}
