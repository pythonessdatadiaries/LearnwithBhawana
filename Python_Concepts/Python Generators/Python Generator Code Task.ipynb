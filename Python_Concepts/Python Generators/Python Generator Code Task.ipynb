{
 "cells": [
  {
   "cell_type": "markdown",
   "id": "56079c0d",
   "metadata": {},
   "source": [
    "## Python Generator\n",
    "\n",
    "\n",
    "### Code Task:\n",
    "\n",
    "#### Problem Statement : \n",
    "\n",
    "Create a generator function to simulate Munna Bhai assigning tasks to Circuit. The tasks are to deliver messages numbered from 1 to n, but Circuit can only deliver one message at a time. The function should yield each message number, and Munna can choose how many messages to process. Provide solutions at beginner, intermediate, and advanced levels.\n",
    "\n",
    "***By learnwithbhawana***"
   ]
  },
  {
   "cell_type": "code",
   "execution_count": 3,
   "id": "4841e516",
   "metadata": {},
   "outputs": [
    {
     "name": "stdout",
     "output_type": "stream",
     "text": [
      "Circuit delivers message 1\n",
      "Circuit delivers message 2\n",
      "Circuit delivers message 3\n",
      "Circuit delivers message 4\n",
      "Circuit delivers message 5\n"
     ]
    }
   ],
   "source": [
    "\"\"\"\n",
    "Task:\n",
    "Create a generator function that yields message numbers from 1 to n.\n",
    "\"\"\"\n",
    "\n",
    "def circuit_delivers(n):\n",
    "    for i in range(1, n + 1):\n",
    "        yield i\n",
    "\n",
    "# Munna calls Circuit\n",
    "messages = circuit_delivers(5)\n",
    "for msg in messages:\n",
    "    print(f\"Circuit delivers message {msg}\")"
   ]
  },
  {
   "cell_type": "markdown",
   "id": "37a520c5",
   "metadata": {},
   "source": [
    "#### Explanation:\n",
    "The generator circuit_delivers yields numbers from 1 to n one at a time.\n",
    "Munna iterates over the generator using a for loop, receiving one message at a time, like Circuit delivering messages on-demand.\n",
    "\n"
   ]
  },
  {
   "cell_type": "code",
   "execution_count": 6,
   "id": "ef7e44a0",
   "metadata": {},
   "outputs": [
    {
     "name": "stdout",
     "output_type": "stream",
     "text": [
      "Circuit delivers : Urgent Message 2\n",
      "Circuit delivers : Urgent Message 4\n",
      "Circuit delivers : Urgent Message 6\n"
     ]
    }
   ],
   "source": [
    "\"\"\"\n",
    "Task: Modify the generator to allow Circuit to deliver messages \n",
    "with a custom prefix (e.g., \"Urgent\" or \"Normal\") and \n",
    "only for even-numbered messages.\n",
    "\"\"\"\n",
    "\n",
    "def circuit_delivers__with_prefix(n,prefix = \"Normal\"):\n",
    "    for i in range(1, n+1):\n",
    "        if i % 2 == 0: #Delivers only even numbered messages\n",
    "            yield f\"{prefix} Message {i}\"\n",
    "        \n",
    "\n",
    "messages = circuit_delivers__with_prefix(6,prefix = \"Urgent\")\n",
    "\n",
    "for msg in messages:\n",
    "    print(f\"Circuit delivers : {msg}\")\n"
   ]
  },
  {
   "cell_type": "markdown",
   "id": "dc9a18df",
   "metadata": {},
   "source": [
    "#### Explanation:\n",
    "The generator now filters for even numbers (i % 2 == 0) and yields a formatted string with a custom prefix.\n",
    "This simulates Munna asking Circuit to prioritize certain messages (e.g., only even-numbered ones), showing how generators can include logic.\n",
    "\n"
   ]
  },
  {
   "cell_type": "code",
   "execution_count": 13,
   "id": "45d6cd58",
   "metadata": {},
   "outputs": [
    {
     "name": "stdout",
     "output_type": "stream",
     "text": [
      "Circuit delivers: 1\n",
      "Circuit delivers: 10\n",
      "Circuit delivers: 2\n",
      "Circuit delivers: 20\n",
      "Circuit delivers: 3\n"
     ]
    }
   ],
   "source": [
    "\"\"\"\n",
    "Task: Create a generator that simulates Circuit delivering messages \n",
    "from multiple gangs (lists of message IDs) in a round-robin fashion. \n",
    "Munna can stop processing messages early if needed.\n",
    "\n",
    "\"\"\"\n",
    "\n",
    "from collections import deque\n",
    "def circuit_round_robin(*gangs):\n",
    "    gangs = [deque(messages) for messages in gangs]\n",
    "\n",
    "    while any(gangs):\n",
    "        for gang in gangs:\n",
    "            if gang:\n",
    "                yield gang.popleft()\n",
    "                \n",
    "gang1 = [1, 2, 3]\n",
    "gang2 = [10, 20, 30, 40]\n",
    "messages = circuit_round_robin(gang1, gang2)\n",
    "\n",
    "for _ in range(5):\n",
    "    print(f\"Circuit delivers: {next(messages)}\")"
   ]
  },
  {
   "cell_type": "markdown",
   "id": "3ba320a1",
   "metadata": {},
   "source": [
    "#### Explanation:\n",
    "The generator takes multiple lists (gangs) and uses deque for efficient popping of messages.\n",
    "It yields messages in a round-robin fashion (one from each gang in turn), stopping when Munna has processed enough or all messages are delivered. This shows advanced use of generators with dynamic inputs and control.\n",
    "\n"
   ]
  },
  {
   "cell_type": "code",
   "execution_count": null,
   "id": "6a13c84d",
   "metadata": {},
   "outputs": [],
   "source": []
  }
 ],
 "metadata": {
  "kernelspec": {
   "display_name": "Python 3 (ipykernel)",
   "language": "python",
   "name": "python3"
  },
  "language_info": {
   "codemirror_mode": {
    "name": "ipython",
    "version": 3
   },
   "file_extension": ".py",
   "mimetype": "text/x-python",
   "name": "python",
   "nbconvert_exporter": "python",
   "pygments_lexer": "ipython3",
   "version": "3.10.9"
  }
 },
 "nbformat": 4,
 "nbformat_minor": 5
}
